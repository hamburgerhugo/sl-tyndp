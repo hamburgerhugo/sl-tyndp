{
 "cells": [
  {
   "cell_type": "code",
   "id": "initial_id",
   "metadata": {
    "collapsed": true,
    "ExecuteTime": {
     "end_time": "2025-08-27T08:17:55.830441Z",
     "start_time": "2025-08-27T08:17:48.166856Z"
    }
   },
   "source": [
    "\n",
    "import pandas as pd\n",
    "from pommes.io.build_input_dataset import *#build_input_parameters, read_config_file\n",
    "from pommes.model.data_validation.dataset_check import check_inputs\n",
    "from pommes.io.save_solution import save_solution\n",
    "from pommes.model.build_model import build_model\n",
    "import warnings\n",
    "import time\n",
    "from datetime import timedelta\n",
    "from pathlib import Path\n",
    "warnings.filterwarnings(\"ignore\")\n",
    "\n",
    "all_areas=['AL', 'AT', 'BA', 'BE', 'BG', 'CH',\n",
    "        'CZ', 'DE', 'DK',\n",
    "         'EE', 'ES', 'FI', 'FR',\n",
    "         'GR', 'HR', 'HU', 'IE', 'IT', 'LT', 'LU',\n",
    "         'LV', 'ME', 'MK', 'MT', 'NL', 'NO', 'PL', 'PT',\n",
    "        'RO', 'RS', 'SE', 'SI', 'SK', 'UK']\n"
   ],
   "outputs": [],
   "execution_count": 1
  },
  {
   "metadata": {},
   "cell_type": "markdown",
   "source": "# Config\n",
   "id": "3c29cae7273cce5e"
  },
  {
   "metadata": {},
   "cell_type": "code",
   "outputs": [],
   "execution_count": null,
   "source": [
    "scenario=\"GA\" #DE or GA\n",
    "climate_year=2009 #1995 or 2008 or 2009\n",
    "areas = [\"FR\", \"DE\"] #, \"BE\", \"ES\", \"CH\", \"IT\", \"PT\", \"UK\", \"IE\", \"AT\", \"NL\", \"DK\", \"NO\", \"SE\", \"PL\", \"CZ\"]\n",
    "year_op = [2030, 2040, 2050]"
   ],
   "id": "517fb6f76951dcef"
  },
  {
   "metadata": {},
   "cell_type": "markdown",
   "source": "Base process",
   "id": "3af7d63eb977c792"
  },
  {
   "metadata": {
    "ExecuteTime": {
     "end_time": "2025-08-27T08:16:27.422977Z",
     "start_time": "2025-08-27T08:16:27.352873Z"
    }
   },
   "cell_type": "code",
   "source": [
    "\n",
    "title=f\"\\033[1m {scenario}CY{climate_year}\\033[0m\"\n",
    "print(title)\n",
    "\n",
    "if areas==[\"all\"]:\n",
    "    areas=all_areas\n",
    "\n",
    "add=\"\"\n",
    "if len(year_op)<4:\n",
    "    for i in year_op:\n",
    "        add+=\"-\"+str(i)\n",
    "suffix = f\"{len(areas)}-nodes\"+add\n",
    "\n",
    "print(suffix)\n",
    "print(year_op,areas)\n",
    "output_folder = f\"output/{scenario}_CY{climate_year}/{suffix}\"\n",
    "start = time.time()\n",
    "print(\"\\033[1m Input data load and pre-processing \\033[0m\")\n",
    "config = read_config_file(study=scenario, file_path=\"config_pommes.yaml\")\n",
    "\n",
    "###File pathway update\n",
    "if scenario==\"DE\":\n",
    "    config[\"input\"][\"path\"]=\"data/Distributed Energy\"\n",
    "elif scenario==\"GA\":\n",
    "    config[\"input\"][\"path\"] = \"data/Global Ambition\"\n",
    "else:\n",
    "    print(404)\n",
    "    exit()\n",
    "\n",
    "config[\"coords\"][\"area\"][\"values\"]=areas\n",
    "config[\"coords\"][\"year_op\"][\"values\"] = year_op\n",
    "\n",
    "# config[\"input\"][\"parameters\"][\"demand\"][\"file\"]=f\"demand_cy{climate_year}.csv\"\n",
    "config[\"input\"][\"parameters\"][\"conversion_availability\"][\"file\"] = f\"availability_cy{climate_year}.csv\"\n",
    "config[\"input\"][\"parameters\"][\"conversion_max_yearly_production\"][\"file\"] = f\"conversion_op2_cy{climate_year}.csv\"\n",
    "config[\"input\"][\"parameters\"][\"conversion_power_capacity_max\"][\"file\"] = f\"conversion_op2_cy{climate_year}.csv\"\n",
    "config[\"input\"][\"parameters\"][\"conversion_power_capacity_min\"][\"file\"] = f\"conversion_op2_cy{climate_year}.csv\"\n",
    "\n",
    "####Links adjustment\n",
    "if config[\"add_modules\"][\"transport\"] :\n",
    "    areas=config[\"coords\"][\"area\"][\"values\"]\n",
    "    all_links=pd.read_csv(config[\"input\"][\"path\"]+\"/transport_link.csv\",sep=\";\").link.unique()\n",
    "    links = []\n",
    "\n",
    "    for link in all_links:\n",
    "        pos = \"\"\n",
    "        i = 0\n",
    "        while pos != \"-\":\n",
    "            pos = link[i]\n",
    "            i += 1\n",
    "        area_from = link[:i - 1]\n",
    "        area_to = link[i:]\n",
    "        if area_to in areas and area_from in areas:\n",
    "            links.append(link)\n",
    "    if len(links) >= 1:\n",
    "        config[\"coords\"][\"link\"][\"values\"] = links\n",
    "    else:\n",
    "        config[\"add_modules\"][\"transport\"]=False\n",
    "print(\"Transport activated:\", config[\"add_modules\"][\"transport\"])\n",
    "model_parameters = build_input_parameters(config)\n",
    "model_parameters = check_inputs(model_parameters)\n",
    "print(\"\\033[1m Model building \\033[0m\")\n",
    "model = build_model(model_parameters)"
   ],
   "id": "9cea921ea538a911",
   "outputs": [
    {
     "ename": "NameError",
     "evalue": "name 'scenario' is not defined",
     "output_type": "error",
     "traceback": [
      "\u001B[1;31m---------------------------------------------------------------------------\u001B[0m",
      "\u001B[1;31mNameError\u001B[0m                                 Traceback (most recent call last)",
      "Cell \u001B[1;32mIn[2], line 1\u001B[0m\n\u001B[1;32m----> 1\u001B[0m title\u001B[38;5;241m=\u001B[39m\u001B[38;5;124mf\u001B[39m\u001B[38;5;124m\"\u001B[39m\u001B[38;5;130;01m\\033\u001B[39;00m\u001B[38;5;124m[1m \u001B[39m\u001B[38;5;132;01m{\u001B[39;00m\u001B[43mscenario\u001B[49m\u001B[38;5;132;01m}\u001B[39;00m\u001B[38;5;124mCY\u001B[39m\u001B[38;5;132;01m{\u001B[39;00mclimate_year\u001B[38;5;132;01m}\u001B[39;00m\u001B[38;5;130;01m\\033\u001B[39;00m\u001B[38;5;124m[0m\u001B[39m\u001B[38;5;124m\"\u001B[39m\n\u001B[0;32m      2\u001B[0m \u001B[38;5;28mprint\u001B[39m(title)\n\u001B[0;32m      4\u001B[0m \u001B[38;5;28;01mif\u001B[39;00m areas\u001B[38;5;241m==\u001B[39m[\u001B[38;5;124m\"\u001B[39m\u001B[38;5;124mall\u001B[39m\u001B[38;5;124m\"\u001B[39m]:\n",
      "\u001B[1;31mNameError\u001B[0m: name 'scenario' is not defined"
     ]
    }
   ],
   "execution_count": 2
  },
  {
   "metadata": {},
   "cell_type": "markdown",
   "source": "## Add multiple weather_year support\n",
   "id": "5d1ba0aaa3bc44e9"
  }
 ],
 "metadata": {
  "kernelspec": {
   "display_name": "Python 3",
   "language": "python",
   "name": "python3"
  },
  "language_info": {
   "codemirror_mode": {
    "name": "ipython",
    "version": 2
   },
   "file_extension": ".py",
   "mimetype": "text/x-python",
   "name": "python",
   "nbconvert_exporter": "python",
   "pygments_lexer": "ipython2",
   "version": "2.7.6"
  }
 },
 "nbformat": 4,
 "nbformat_minor": 5
}
