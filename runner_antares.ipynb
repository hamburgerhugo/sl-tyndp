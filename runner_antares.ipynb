{
 "cells": [
  {
   "metadata": {},
   "cell_type": "code",
   "source": [
    "%load_ext autoreload\n",
    "%autoreload 2\n",
    "\n",
    "from pathlib import Path\n",
    "import yaml\n",
    "from src.antares_io import load_api_config_from_yaml, update_variant_ids_in_config, prepare_data_for_batch\n",
    "from src.antares_runner import AntaresRunner\n",
    "from src.antares_reader import get_outputs_from_runner"
   ],
   "id": "47c82cce88ff9441",
   "outputs": [],
   "execution_count": null
  },
  {
   "metadata": {},
   "cell_type": "code",
   "source": [
    "# --- Cell 2: Load Configs and Prepare Data Batch ---\n",
    "CONFIG_LOCAL_PATH = Path(\"config_local.yaml\")\n",
    "CONFIG_RUN_PATH = Path(\"config_run.yaml\")\n",
    "CONFIG_ANTARES_PATH = Path(\"config_antares.yaml\")\n",
    "\n",
    "# Load all configurations into a single dictionary\n",
    "run_config = yaml.safe_load(open(CONFIG_RUN_PATH))\n",
    "run_config['antares_config'] = yaml.safe_load(open(CONFIG_ANTARES_PATH))\n",
    "run_config['local_config'] = yaml.safe_load(open(CONFIG_LOCAL_PATH))\n",
    "\n",
    "# Prepare the entire data batch with one function call\n",
    "year_data_batch = prepare_data_for_batch(run_config)\n",
    "\n"
   ],
   "id": "6b910fe4bf32684b",
   "outputs": [],
   "execution_count": null
  },
  {
   "metadata": {},
   "cell_type": "code",
   "source": [
    "# --- Cell 3: Execute the Runner ---\n",
    "# 1. Load the API config\n",
    "api_config = load_api_config_from_yaml(CONFIG_LOCAL_PATH)\n",
    "\n",
    "# 2. Initialize the Runner\n",
    "runner = AntaresRunner(\n",
    "    api_config=api_config,\n",
    "    study_version=run_config['study_parameters']['antares_version'],\n",
    "    solver_name=\"xpress\",\n",
    "    nb_cpu=34\n",
    ")"
   ],
   "id": "210d1259f5b15649",
   "outputs": [],
   "execution_count": null
  },
  {
   "metadata": {},
   "cell_type": "code",
   "source": [
    "# 3. Launch the Batch Run\n",
    "final_study_ids = runner.run_batch(\n",
    "    year_data=year_data_batch,\n",
    "    study_name_prefix=run_config['study_parameters']['study_name_prefix']\n",
    ")\n",
    "\n",
    "# 4. Save the new/updated IDs back to the config file\n",
    "if final_study_ids:\n",
    "    update_variant_ids_in_config(CONFIG_RUN_PATH, final_study_ids)\n",
    "\n",
    "# 5. Wait for All Simulations to Finish\n",
    "runner.wait_for_completion()\n",
    "\n",
    "# 6. Collect and Display Results\n",
    "outputs_by_year = get_outputs_from_runner(runner)\n",
    "print(\"\\n--- Final Consolidated Results ---\")\n",
    "print(outputs_by_year)"
   ],
   "id": "a5b88980bba5170d",
   "outputs": [],
   "execution_count": null
  },
  {
   "metadata": {
    "ExecuteTime": {
     "end_time": "2025-09-15T15:55:05.362425Z",
     "start_time": "2025-09-15T15:55:00.219505Z"
    }
   },
   "cell_type": "code",
   "source": "outputs_by_year = get_outputs_from_runner(runner)",
   "id": "33dd52d39e37a086",
   "outputs": [
    {
     "name": "stdout",
     "output_type": "stream",
     "text": [
      "\n",
      "--- Fetching All Simulation Outputs from API ---\n",
      "Fetching output for year 2030 (Study: 'HH-SL-0.1.1_run_2030', Output ID: 20250915-1743eco)...\n",
      "Fetching output for year 2040 (Study: 'HH-SL-0.1.1_run_2040', Output ID: 20250915-1747eco)...\n",
      "Fetching output for year 2050 (Study: 'HH-SL-0.1.1_run_2050', Output ID: 20250915-1752eco)...\n",
      "Successfully fetched 3 output(s).\n"
     ]
    }
   ],
   "execution_count": 10
  },
  {
   "metadata": {},
   "cell_type": "code",
   "source": [
    "\n",
    "VALUES  = general\n",
    "DETAILS = thermal plants\n",
    "\n",
    "DETAILS_ST_STORAGE = st_storages\n",
    "\n",
    "\n",
    "\n",
    "outputs_by_year[2030].get_mc_all_area(frequency=Frequency.HOURLY, data_type=MCIndAreasDataType.DETAILS_ST_STORAGE , area= 'fr_el').columns\n",
    "MultiIndex([('battery',  'P-injection - MW', 'EXP'),\n",
    "            (    'dam',  'P-injection - MW', 'EXP'),\n",
    "            (    'phs',  'P-injection - MW', 'EXP'),\n",
    "            ('battery', 'P-withdrawal - MW', 'EXP'),\n",
    "            (    'dam', 'P-withdrawal - MW', 'EXP'),\n",
    "            (    'phs', 'P-withdrawal - MW', 'EXP'),\n",
    "            ('battery',      'Levels - MWh', 'EXP'),\n",
    "            (    'dam',      'Levels - MWh', 'EXP'),\n",
    "            (    'phs',      'Levels - MWh', 'EXP'),\n",
    "            ('battery',   'CashFlow - Euro', 'EXP'),\n",
    "            (    'dam',   'CashFlow - Euro', 'EXP'),\n",
    "            (    'phs',   'CashFlow - Euro', 'EXP')],\n",
    "           )\n",
    "\n",
    "outputs_by_year[2030].get_mc_all_area(frequency=Frequency.HOURLY, data_type=MCIndAreasDataType.DETAILS , area= 'fr_el').columns\n",
    "MultiIndex([(    'ccgt',            'MWh', 'EXP'),\n",
    "            ('new_nuke',            'MWh', 'EXP'),\n",
    "            (    'ocgt',            'MWh', 'EXP'),\n",
    "            ('old_nuke',            'MWh', 'EXP'),\n",
    "            (    'ccgt',  'MIN GEN - MWh', 'EXP'),\n",
    "            ('new_nuke',  'MIN GEN - MWh', 'EXP'),\n",
    "            (    'ocgt',  'MIN GEN - MWh', 'EXP'),\n",
    "            ('old_nuke',  'MIN GEN - MWh', 'EXP'),\n",
    "            (    'ccgt', 'NP Cost - Euro', 'EXP'),\n",
    "            ('new_nuke', 'NP Cost - Euro', 'EXP'),\n",
    "            (    'ocgt', 'NP Cost - Euro', 'EXP'),\n",
    "            ('old_nuke', 'NP Cost - Euro', 'EXP'),\n",
    "            (    'ccgt',           'NODU', 'EXP'),\n",
    "            ('new_nuke',           'NODU', 'EXP'),\n",
    "            (    'ocgt',           'NODU', 'EXP'),\n",
    "            ('old_nuke',           'NODU', 'EXP'),\n",
    "            (    'ccgt',  'Profit - Euro', 'EXP'),\n",
    "            ('new_nuke',  'Profit - Euro', 'EXP'),\n",
    "            (    'ocgt',  'Profit - Euro', 'EXP'),\n",
    "            ('old_nuke',  'Profit - Euro', 'EXP')],\n",
    "           )\n",
    "\n",
    "outputs_by_year[2030].get_mc_all_area(frequency=Frequency.HOURLY, data_type=MCIndAreasDataType.VALUES , area= 'fr_el').columns\n",
    "MultiIndex([(  'OV. COST', 'Euro', 'EXP'),\n",
    "            (  'OP. COST', 'Euro', 'EXP'),\n",
    "            (  'OP. COST', 'Euro', 'std'),\n",
    "            (  'OP. COST', 'Euro', 'min'),\n",
    "            (  'OP. COST', 'Euro', 'max'),\n",
    "            ('MRG. PRICE', 'Euro', 'EXP'),\n",
    "            ('MRG. PRICE', 'Euro', 'std'),\n",
    "            ('MRG. PRICE', 'Euro', 'min'),\n",
    "            ('MRG. PRICE', 'Euro', 'max'),\n",
    "            ( 'CO2 EMIS.', 'Tons', 'EXP'),\n",
    "            ...\n",
    "            (   'MAX MRG',  'MWh', 'min'),\n",
    "            (   'MAX MRG',  'MWh', 'max'),\n",
    "            (   'NP COST', 'Euro', 'EXP'),\n",
    "            (   'NP COST', 'Euro', 'std'),\n",
    "            (   'NP COST', 'Euro', 'min'),\n",
    "            (   'NP COST', 'Euro', 'max'),\n",
    "            (      'NODU',    ' ', 'EXP'),\n",
    "            (      'NODU',    ' ', 'std'),\n",
    "            (      'NODU',    ' ', 'min'),\n",
    "            (      'NODU',    ' ', 'max')],\n",
    "           length=253)"
   ],
   "id": "154201964378dd4",
   "outputs": [],
   "execution_count": null
  },
  {
   "metadata": {},
   "cell_type": "code",
   "source": [
    "# outputs_by_year[2030].aggregate_mc_all_areas(data_type=\"details\", frequency=\"hourly\")\n",
    "from antares.craft.model.output import MCIndAreasDataType, MCAllAreasDataType\n",
    "\n",
    "# outputs_by_year[2030].get_mc_all_area(frequency=Frequency.HOURLY, data_type=MCIndAreasDataType.VALUES , area= 'fr_el').columns\n",
    "\n",
    "outputs_by_year[2030].aggregate_mc_all_areas(frequency=Frequency.HOURLY, data_type=MCIndAreasDataType.VALUES)\n"
   ],
   "id": "8c45ff5f80caf26e",
   "outputs": [],
   "execution_count": null
  },
  {
   "metadata": {},
   "cell_type": "code",
   "source": [
    "from enum import Enum\n",
    "class MCIndAreasDataType(Enum):\n",
    "    VALUES = \"values\"\n",
    "    DETAILS = \"details\"\n",
    "    DETAILS_ST_STORAGE = \"details-STstorage\"\n",
    "    DETAILS_RES = \"details-res\"\n",
    "class Frequency(Enum):\n",
    "    HOURLY = \"hourly\"\n",
    "    # DAILY = \"daily\"\n",
    "    # WEEKLY = \"weekly\"\n",
    "    # MONTHLY = \"monthly\"\n",
    "    # ANNUAL = \"annual\"\n",
    "\n"
   ],
   "id": "8f947ad09580c91a",
   "outputs": [],
   "execution_count": null
  },
  {
   "metadata": {},
   "cell_type": "code",
   "source": "MCIndAreasDataType",
   "id": "5b832f447bc6e6fb",
   "outputs": [],
   "execution_count": null
  },
  {
   "metadata": {},
   "cell_type": "code",
   "source": [
    "# TODO test the accurate mod\n",
    "# TODO the settings for management policy + weather_year selection ..."
   ],
   "id": "ac00175478491d55",
   "outputs": [],
   "execution_count": null
  },
  {
   "metadata": {},
   "cell_type": "code",
   "source": [
    "# TODO: Add a cell to run study\n",
    "# TODO: Add a cell to read results\n",
    "# TODO: Filter results saved\n",
    "\n",
    "# TODO: factor study update in a configurable function\n",
    "# TODO: Add h2 import\n",
    "# TODO: add salt_cavern\n",
    "# TODO: forward availability for nuke / old_nuke conversion_tech\n",
    "# TODO: forward mustrun for nuke / old_nuke conversion_tech  -->> Defined per cluster in antares, not possible here\n",
    "# TODO:\n",
    "# TODO: add parameters not yet implemented\n",
    "\n",
    "# TODO: clean up conf files\n",
    "# TODO: do a propper logger\n",
    "# TODO: skip part of the processes that are not necessary  after the study has been initialised (e.g. it 3, no need to send VRES load_factor (defined in % and so normalised) again, as they are already properly defined and will not be affected by invenstment changes, likely the same for hydro as they can't be invested\n",
    "# TODO: check if it works for 2030, 2040 and 2050\n",
    "# TODO: read directly pommes inputs file\n"
   ],
   "id": "bbc967761bf4009c",
   "outputs": [],
   "execution_count": null
  }
 ],
 "metadata": {
  "kernelspec": {
   "display_name": "Python 3",
   "language": "python",
   "name": "python3"
  },
  "language_info": {
   "codemirror_mode": {
    "name": "ipython",
    "version": 2
   },
   "file_extension": ".py",
   "mimetype": "text/x-python",
   "name": "python",
   "nbconvert_exporter": "python",
   "pygments_lexer": "ipython2",
   "version": "2.7.6"
  }
 },
 "nbformat": 4,
 "nbformat_minor": 5
}
